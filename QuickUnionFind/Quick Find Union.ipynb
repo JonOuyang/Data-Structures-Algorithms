{
 "cells": [
  {
   "cell_type": "markdown",
   "id": "cdb0377c",
   "metadata": {},
   "source": [
    "# Quick Find / Quick Union Algorithms"
   ]
  },
  {
   "cell_type": "markdown",
   "id": "18a56cc0",
   "metadata": {},
   "source": [
    "Use Cases:\n",
    "- Percolation\n",
    "- Games\n",
    "- Dynamic Connectivity\n",
    "- Least common ancestor\n",
    "- Equivalence of finite state automata\n",
    "- Hoshen-Kopelman algorithm (physics)\n",
    "- Hinley-Milner polymorphic type interface\n",
    "- Kruskal's minimum spanning tree algorithm"
   ]
  },
  {
   "cell_type": "markdown",
   "id": "339c726f",
   "metadata": {},
   "source": [
    "## Quick Find\n",
    "Both Quick Find and Quick Union algorithms utilize arrays to store information about links. You can think of the relationships like psuedo nodes from link trees. But instead of using nodes, we are using the relative position and index as trackers.\n",
    "\n",
    "The original base array will be an array where every element is its index."
   ]
  },
  {
   "cell_type": "code",
   "execution_count": 1,
   "id": "30c14dfe",
   "metadata": {},
   "outputs": [],
   "source": [
    "id = [0, 1, 2, 3, 4, 5]"
   ]
  },
  {
   "cell_type": "markdown",
   "id": "b84cd3a2",
   "metadata": {},
   "source": [
    "When we begin linking different elements together, we change the element in the array. We keep track of the elements by their index number. For Quick Find, for every element that is linked together we have to chain them together with the same identification number."
   ]
  },
  {
   "cell_type": "code",
   "execution_count": 3,
   "id": "a60447ef",
   "metadata": {},
   "outputs": [],
   "source": [
    "#link 0 -> 2\n",
    "#link 2 -> 3\n",
    "id_ = [0, 1, 2, 3, 4, 5]\n",
    "idn = [0, 1, 0, 0, 4, 5] #note that quick find does not care about the order, it only cares that they are connected\n",
    "#link 4 -> 5\n",
    "idn = [0, 1, 0, 0, 4, 4]"
   ]
  },
  {
   "cell_type": "markdown",
   "id": "a1623d8d",
   "metadata": {},
   "source": [
    "## Quick Union\n",
    "Quick Union follows a similar idea, but instead of changing every single element to match to represent a link, it follows a more linked list type concept, where the respective element will now represent the parent item it is linked to."
   ]
  },
  {
   "cell_type": "code",
   "execution_count": 4,
   "id": "bccaa49e",
   "metadata": {},
   "outputs": [],
   "source": [
    "id = [0, 1, 2, 3, 4, 5]\n",
    "\n",
    "#link 2 -> 0\n",
    "id = [0, 1, 0, 3, 4, 5]\n",
    "\n",
    "#link 5 -> 2\n",
    "id = [0, 1, 0, 3, 4, 2] #id[5] will return 2 -> id[2] returns 0 -> id[0] is the root (id[i] == i)"
   ]
  },
  {
   "cell_type": "markdown",
   "id": "864bc3d7",
   "metadata": {},
   "source": [
    "### Extra Notes\n",
    "- If given a multi-dimension array, simply cast it into 1 dimension and label ```id = [1, 2, ... , n]```"
   ]
  }
 ],
 "metadata": {
  "kernelspec": {
   "display_name": "Python 3 (ipykernel)",
   "language": "python",
   "name": "python3"
  },
  "language_info": {
   "codemirror_mode": {
    "name": "ipython",
    "version": 3
   },
   "file_extension": ".py",
   "mimetype": "text/x-python",
   "name": "python",
   "nbconvert_exporter": "python",
   "pygments_lexer": "ipython3",
   "version": "3.10.11"
  }
 },
 "nbformat": 4,
 "nbformat_minor": 5
}
