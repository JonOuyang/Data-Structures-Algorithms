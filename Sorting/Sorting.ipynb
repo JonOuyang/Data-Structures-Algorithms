{
 "cells": [
  {
   "cell_type": "markdown",
   "id": "357f0632",
   "metadata": {},
   "source": [
    "# Selection Sort\n",
    "TLDR: swap two cards at a time, swap i and the minimum. Scan through every single element, at every single index, look to the right of it and find the min. then swap the two."
   ]
  },
  {
   "cell_type": "code",
   "execution_count": 58,
   "id": "b889ffc3",
   "metadata": {},
   "outputs": [
    {
     "name": "stdout",
     "output_type": "stream",
     "text": [
      "ORIGINAL ARRAY: [5, 1, 3, 7, 2]\n",
      "Step 0: [5, 1, 3, 7, 2]\n",
      "Step 1: [1, 5, 3, 7, 2]\n",
      "Step 2: [1, 2, 3, 7, 5]\n",
      "Step 3: [1, 2, 3, 7, 5]\n",
      "Step 4: [1, 2, 3, 5, 7]\n"
     ]
    }
   ],
   "source": [
    "def selection(array):\n",
    "    N = len(array)\n",
    "    i = 0\n",
    "    while (i < N):\n",
    "        print(f'Step {i}: {array}')\n",
    "        j = i+1\n",
    "        tempMin = i\n",
    "        while (j < N):\n",
    "            if (array[j] < array[tempMin]):\n",
    "                tempMin = j\n",
    "            j+=1\n",
    "        temp = array[i]\n",
    "        array[i] = array[tempMin]\n",
    "        array[tempMin] = temp\n",
    "        i+=1\n",
    "        \n",
    "array = [5, 1, 3, 7, 2]\n",
    "print(f'ORIGINAL ARRAY: {array}')\n",
    "selection(array)"
   ]
  },
  {
   "cell_type": "markdown",
   "id": "d98684c7",
   "metadata": {},
   "source": [
    "# Insertion Sort\n",
    "For every single element in the array, check if the element is smaller compared to the element to its left. If it is smaller, move to the left and recheck. Otherwise, move on.\n",
    "\n",
    "- Insertion sort is much faster than selection sort in best case scenario (all elements already in ascending order)\n",
    "- It is much slower in the worst case scenario (all in descending order)\n",
    "- For partially sorted arrays insertion sort runs in linear time"
   ]
  },
  {
   "cell_type": "code",
   "execution_count": 66,
   "id": "9af912fe",
   "metadata": {},
   "outputs": [
    {
     "name": "stdout",
     "output_type": "stream",
     "text": [
      "ORIGINAL ARRAY: [5, 1, 3, 7, 2]\n",
      "Step 1: [5, 1, 3, 7, 2]\n",
      "Step 2: [1, 5, 3, 7, 2]\n",
      "Step 3: [1, 3, 5, 7, 2]\n",
      "Step 4: [1, 3, 5, 7, 2]\n"
     ]
    }
   ],
   "source": [
    "def insertion(array):\n",
    "    N = len(array)\n",
    "    i = 1\n",
    "    while (i < N):\n",
    "        print(f'Step {i}: {array}')\n",
    "        j = i\n",
    "        while (j > 0 and array[j] < array[j-1]):\n",
    "            temp = array[j]\n",
    "            array[j] = array[j-1]\n",
    "            array[j-1] = temp\n",
    "            j-=1\n",
    "        i+=1\n",
    "\n",
    "array = [5, 1, 3, 7, 2]\n",
    "print(f'ORIGINAL ARRAY: {array}')\n",
    "insertion(array)"
   ]
  },
  {
   "cell_type": "markdown",
   "id": "26d5a668",
   "metadata": {},
   "source": [
    "# Shell Sort\n",
    "Shell sort is essentially insertion sort, but instead of sorting every single element we sort every \"h\"th element. We can use the exact same code from insertion sort. \n",
    "- Shell Sort works better on extremely large datasets. Otherwise, insertion sort is faster"
   ]
  },
  {
   "cell_type": "code",
   "execution_count": 67,
   "id": "c814dd53",
   "metadata": {},
   "outputs": [
    {
     "name": "stdout",
     "output_type": "stream",
     "text": [
      "ORIGINAL ARRAY: [10, 9, 8, 7, 6, 5, 4, 3, 2, 1]\n",
      "4 H Sort Start\n",
      "Step 1: [6, 9, 8, 7, 10, 5, 4, 3, 2, 1]\n",
      "Step 2: [6, 5, 8, 7, 10, 9, 4, 3, 2, 1]\n",
      "Step 3: [6, 5, 4, 7, 10, 9, 8, 3, 2, 1]\n",
      "Step 4: [6, 5, 4, 3, 10, 9, 8, 7, 2, 1]\n",
      "Step 5: [2, 5, 4, 3, 6, 9, 8, 7, 10, 1]\n",
      "Step 6: [2, 1, 4, 3, 6, 5, 8, 7, 10, 9]\n",
      "1 H Sort Start\n",
      "Step 7: [1, 2, 4, 3, 6, 5, 8, 7, 10, 9]\n",
      "Step 8: [1, 2, 4, 3, 6, 5, 8, 7, 10, 9]\n",
      "Step 9: [1, 2, 3, 4, 6, 5, 8, 7, 10, 9]\n",
      "Step 10: [1, 2, 3, 4, 6, 5, 8, 7, 10, 9]\n",
      "Step 11: [1, 2, 3, 4, 5, 6, 8, 7, 10, 9]\n",
      "Step 12: [1, 2, 3, 4, 5, 6, 8, 7, 10, 9]\n",
      "Step 13: [1, 2, 3, 4, 5, 6, 7, 8, 10, 9]\n",
      "Step 14: [1, 2, 3, 4, 5, 6, 7, 8, 10, 9]\n",
      "Step 15: [1, 2, 3, 4, 5, 6, 7, 8, 9, 10]\n",
      "[1, 2, 3, 4, 5, 6, 7, 8, 9, 10]\n"
     ]
    }
   ],
   "source": [
    "def shell(array):\n",
    "    N = len(array)\n",
    "    h = 1\n",
    "    step = 1 #step counter only for documentation purposes, this is not part of the algorithm\n",
    "    while (h < N//3):\n",
    "        h = 3*h + 1 #automatically calculates the starting h value based on the size of the array\n",
    "        \n",
    "    while (h >= 1):\n",
    "        i = h\n",
    "        print(f'{h} H Sort Start')\n",
    "        while (i < N):\n",
    "            j = i\n",
    "            while (j >= h and array[j] < array[j-h]):\n",
    "                temp = array[j]\n",
    "                array[j] = array[j-h]\n",
    "                array[j-h] = temp\n",
    "                j-=h\n",
    "            i+=1\n",
    "            print(f'Step {step}: {array}')\n",
    "            step += 1\n",
    "        h //= 3\n",
    "        \n",
    "array = [10, 9, 8, 7, 6, 5, 4, 3, 2, 1]\n",
    "print(f'ORIGINAL ARRAY: {array}')\n",
    "shell(array)\n",
    "print(array)"
   ]
  }
 ],
 "metadata": {
  "kernelspec": {
   "display_name": "Python 3 (ipykernel)",
   "language": "python",
   "name": "python3"
  },
  "language_info": {
   "codemirror_mode": {
    "name": "ipython",
    "version": 3
   },
   "file_extension": ".py",
   "mimetype": "text/x-python",
   "name": "python",
   "nbconvert_exporter": "python",
   "pygments_lexer": "ipython3",
   "version": "3.10.11"
  }
 },
 "nbformat": 4,
 "nbformat_minor": 5
}
